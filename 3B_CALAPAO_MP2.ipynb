{
  "nbformat": 4,
  "nbformat_minor": 0,
  "metadata": {
    "colab": {
      "provenance": []
    },
    "kernelspec": {
      "name": "python3",
      "display_name": "Python 3"
    },
    "language_info": {
      "name": "python"
    }
  },
  "cells": [
    {
      "cell_type": "markdown",
      "source": [
        "# Propositional Logic Operations"
      ],
      "metadata": {
        "id": "x2ebrUHxx2Px"
      }
    },
    {
      "cell_type": "code",
      "execution_count": 30,
      "metadata": {
        "id": "AIkOCjFhuw7D"
      },
      "outputs": [],
      "source": [
        "def and_operation(p, q):\n",
        "    return p and q\n",
        "\n",
        "def or_operation(p, q):\n",
        "    return p or q\n",
        "\n",
        "def not_operation(p):\n",
        "    return not p\n",
        "\n",
        "def implies_operation(p, q):\n",
        "    return not p or q\n"
      ]
    },
    {
      "cell_type": "markdown",
      "source": [
        "# Evaluate Logical Statements"
      ],
      "metadata": {
        "id": "5cwrNSdjx9Mw"
      }
    },
    {
      "cell_type": "code",
      "source": [
        "def evaluate(statement, values):\n",
        "    expression = statement\n",
        "    for var, val in values.items():\n",
        "        expression = expression.replace(var, str(val))\n",
        "    return eval(expression)"
      ],
      "metadata": {
        "id": "V4EQYPmcx-QJ"
      },
      "execution_count": 38,
      "outputs": []
    },
    {
      "cell_type": "markdown",
      "source": [
        "# Extend to Predicate Logic"
      ],
      "metadata": {
        "id": "l7MuVwpyyJ9w"
      }
    },
    {
      "cell_type": "markdown",
      "source": [
        "Universal Quantifier"
      ],
      "metadata": {
        "id": "y0dG40nn7mbf"
      }
    },
    {
      "cell_type": "code",
      "source": [
        "def for_all(predicate, domain):\n",
        "    return all(predicate(x) for x in domain)"
      ],
      "metadata": {
        "id": "8iZzkDFuyM6h"
      },
      "execution_count": 35,
      "outputs": []
    },
    {
      "cell_type": "markdown",
      "source": [
        "Existential Quantifier"
      ],
      "metadata": {
        "id": "AstcrWpD7yM2"
      }
    },
    {
      "cell_type": "code",
      "source": [
        "def exists(predicate, domain):\n",
        "    return any(predicate(x) for x in domain)"
      ],
      "metadata": {
        "id": "c_2FtTAr7wku"
      },
      "execution_count": 36,
      "outputs": []
    },
    {
      "cell_type": "markdown",
      "source": [
        "# AI Agent Development"
      ],
      "metadata": {
        "id": "BIvZQUZByQjg"
      }
    },
    {
      "cell_type": "code",
      "source": [
        "def clothing_advisor(conditions):\n",
        "    temperature = conditions['temperature']\n",
        "    is_raining = conditions['is_raining']\n",
        "    is_windy = conditions['is_windy']\n",
        "\n",
        "    if temperature < 10:\n",
        "        if is_raining:\n",
        "            return \"Wear a Jacket and Carry an Umbrella\"\n",
        "        elif is_windy:\n",
        "            return \"Wear a Windbreaker\"\n",
        "        else:\n",
        "            return \"Wear a Jacket\"\n",
        "    elif 10 <= temperature <= 20:\n",
        "        if is_raining:\n",
        "            return \"Wear a Sweater and Carry an Umbrella\"\n",
        "        else:\n",
        "            return \"Wear a Sweater\"\n",
        "    elif temperature > 20:\n",
        "        if is_raining:\n",
        "            return \"Wear a T-Shirt and Carry an Umbrella\"\n",
        "        else:\n",
        "            return \"Wear a T-Shirt\"\n",
        "    else:\n",
        "        return \"Stay Indoors\""
      ],
      "metadata": {
        "id": "ppIZ6-ogy6dp"
      },
      "execution_count": 39,
      "outputs": []
    },
    {
      "cell_type": "markdown",
      "source": [
        "Implementing the Decision Logic"
      ],
      "metadata": {
        "id": "on-byi9P6L1n"
      }
    },
    {
      "cell_type": "code",
      "source": [
        "conditions = {'temperature': 15, 'is_raining': True, 'is_windy': False}\n",
        "decision = clothing_advisor(conditions)\n",
        "print(f\"AI Decision: {decision}\")\n"
      ],
      "metadata": {
        "colab": {
          "base_uri": "https://localhost:8080/"
        },
        "id": "LO7nOCds538f",
        "outputId": "7fba6f2f-f540-4c32-b0c7-53f1a03065f4"
      },
      "execution_count": 40,
      "outputs": [
        {
          "output_type": "stream",
          "name": "stdout",
          "text": [
            "AI Decision: Wear a Sweater and Carry an Umbrella\n"
          ]
        }
      ]
    }
  ]
}