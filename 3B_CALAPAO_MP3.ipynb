{
  "nbformat": 4,
  "nbformat_minor": 0,
  "metadata": {
    "colab": {
      "provenance": [],
      "collapsed_sections": [
        "pDgvYWVYNxHo",
        "lc8jxsdsOm-3",
        "AgezjVfaO9s4",
        "u4OSk0jjPwXf",
        "u0fO_eP7QFl3"
      ],
      "toc_visible": true,
      "authorship_tag": "ABX9TyN9XsXOymgAufz/c7EuVyXS",
      "include_colab_link": true
    },
    "kernelspec": {
      "name": "python3",
      "display_name": "Python 3"
    },
    "language_info": {
      "name": "python"
    }
  },
  "cells": [
    {
      "cell_type": "markdown",
      "metadata": {
        "id": "view-in-github",
        "colab_type": "text"
      },
      "source": [
        "<a href=\"https://colab.research.google.com/github/Suarenz/CSST101-CS3B/blob/main/3B_CALAPAO_MP3.ipynb\" target=\"_parent\"><img src=\"https://colab.research.google.com/assets/colab-badge.svg\" alt=\"Open In Colab\"/></a>"
      ]
    },
    {
      "cell_type": "markdown",
      "source": [
        "# Part 1: Implement Basic Probability Calculations\n"
      ],
      "metadata": {
        "id": "pDgvYWVYNxHo"
      }
    },
    {
      "cell_type": "code",
      "execution_count": 2,
      "metadata": {
        "colab": {
          "base_uri": "https://localhost:8080/"
        },
        "id": "VHAlSlg7NI0S",
        "outputId": "4e834895-2b0a-4b49-b9a5-37e7e6e887a5"
      },
      "outputs": [
        {
          "output_type": "stream",
          "name": "stdout",
          "text": [
            "Welcome to the Probability Calculator!\n",
            "\n",
            "Enter the probability of event A (P(A)): 0.3\n",
            "Enter the probability of event B (P(B)): 0.4\n",
            "Enter the probability of event B given A (P(B|A)): 0.8\n",
            "\n",
            "Joint Probability P(A and B): 0.1200\n",
            "Marginal Probability of A: 1.1400\n",
            "Conditional Probability P(A|B): 0.6000\n"
          ]
        }
      ],
      "source": [
        "\n",
        "def joint_probability(p_a, p_b):\n",
        "    return p_a * p_b\n",
        "\n",
        "\n",
        "def marginal_probability(p_joint_ab, p_b_given_a, p_b_given_not_a, p_not_a):\n",
        "    return p_joint_ab + p_b_given_a * p_b_given_not_a + p_not_a\n",
        "\n",
        "\n",
        "def conditional_probability(p_a, p_b_given_a, p_b):\n",
        "    return (p_b_given_a * p_a) / p_b\n",
        "\n",
        "\n",
        "def interactive_probability():\n",
        "    print(\"Welcome to the Probability Calculator!\\n\")\n",
        "\n",
        "    p_a = float(input(\"Enter the probability of event A (P(A)): \"))\n",
        "    p_b = float(input(\"Enter the probability of event B (P(B)): \"))\n",
        "    p_b_given_a = float(input(\"Enter the probability of event B given A (P(B|A)): \"))\n",
        "\n",
        "\n",
        "    joint_prob = joint_probability(p_a, p_b)\n",
        "    print(f\"\\nJoint Probability P(A and B): {joint_prob:.4f}\")\n",
        "\n",
        "\n",
        "    marginal_prob = marginal_probability(joint_prob, p_b_given_a, p_b, 1 - p_a)\n",
        "    print(f\"Marginal Probability of A: {marginal_prob:.4f}\")\n",
        "\n",
        "\n",
        "    p_b = joint_prob / p_a\n",
        "    cond_prob = conditional_probability(p_a, p_b_given_a, p_b)\n",
        "    print(f\"Conditional Probability P(A|B): {cond_prob:.4f}\")\n",
        "\n",
        "\n",
        "interactive_probability()\n",
        "\n"
      ]
    },
    {
      "cell_type": "markdown",
      "source": [
        "# Part 2: Bayesian Inference for Real-World Scenarios"
      ],
      "metadata": {
        "id": "lc8jxsdsOm-3"
      }
    },
    {
      "cell_type": "code",
      "source": [
        "def bayesian_inference(p_disease, p_positive_given_disease, p_positive):\n",
        "\n",
        "    posterior_prob = (p_positive_given_disease * p_disease) / p_positive\n",
        "    return posterior_prob\n",
        "\n",
        "\n",
        "def interactive_bayesian_inference():\n",
        "    print(\"Bayesian Inference for Medical Diagnosis\\n\")\n",
        "\n",
        "\n",
        "    p_disease = float(input(\"Enter the prior probability of having the disease (P(D)): \"))\n",
        "    p_positive_given_disease = float(input(\"Enter the probability of a positive test given the disease (P(T|D)): \"))\n",
        "    p_positive = float(input(\"Enter the overall probability of a positive test result (P(T)): \"))\n",
        "\n",
        "\n",
        "    posterior = bayesian_inference(p_disease, p_positive_given_disease, p_positive)\n",
        "\n",
        "\n",
        "    print(f\"\\nThe updated probability of having the disease given a positive test result (P(D|T)) is: {posterior:.4f}\")\n",
        "\n",
        "\n",
        "interactive_bayesian_inference()\n"
      ],
      "metadata": {
        "colab": {
          "base_uri": "https://localhost:8080/"
        },
        "id": "06U4NaI9OqY3",
        "outputId": "fd8d35ab-30a7-475e-fa0e-60bedb1f6c96"
      },
      "execution_count": 3,
      "outputs": [
        {
          "output_type": "stream",
          "name": "stdout",
          "text": [
            "Bayesian Inference for Medical Diagnosis\n",
            "\n",
            "Enter the prior probability of having the disease (P(D)): 0.01\n",
            "Enter the probability of a positive test given the disease (P(T|D)): 0.9\n",
            "Enter the overall probability of a positive test result (P(T)): 0.05\n",
            "\n",
            "The updated probability of having the disease given a positive test result (P(D|T)) is: 0.1800\n"
          ]
        }
      ]
    },
    {
      "cell_type": "markdown",
      "source": [
        "# Part 3: Simulate Decision-Making Under Uncertainty"
      ],
      "metadata": {
        "id": "AgezjVfaO9s4"
      }
    },
    {
      "cell_type": "code",
      "source": [
        "import random\n",
        "\n",
        "\n",
        "def simulate_decision(prob_success, reward, penalty, trials):\n",
        "    total_return = 0\n",
        "\n",
        "\n",
        "    for _ in range(trials):\n",
        "\n",
        "        if random.random() < prob_success:\n",
        "            total_return += reward\n",
        "        else:\n",
        "            total_return -= penalty\n",
        "\n",
        "\n",
        "    average_return = total_return / trials\n",
        "    return average_return\n",
        "\n",
        "\n",
        "def interactive_decision_simulation():\n",
        "    print(\"Decision-Making Simulation Under Uncertainty\\n\")\n",
        "\n",
        "\n",
        "    prob_success = float(input(\"Enter the probability of success (between 0 and 1): \"))\n",
        "    reward = float(input(\"Enter the reward for success: \"))\n",
        "    penalty = float(input(\"Enter the penalty for failure: \"))\n",
        "    trials = int(input(\"Enter the number of trials to run: \"))\n",
        "\n",
        "\n",
        "    avg_return = simulate_decision(prob_success, reward, penalty, trials)\n",
        "\n",
        "\n",
        "    print(f\"\\nThe average return over {trials} trials is: {avg_return:.4f}\")\n",
        "\n",
        "\n",
        "interactive_decision_simulation()\n"
      ],
      "metadata": {
        "colab": {
          "base_uri": "https://localhost:8080/"
        },
        "id": "7Dt1V5PiO-uw",
        "outputId": "f0061d83-a05d-4fb9-f1b5-85b61b5fab8f"
      },
      "execution_count": 4,
      "outputs": [
        {
          "output_type": "stream",
          "name": "stdout",
          "text": [
            "Decision-Making Simulation Under Uncertainty\n",
            "\n",
            "Enter the probability of success (between 0 and 1): 1\n",
            "Enter the reward for success: 2\n",
            "Enter the penalty for failure: 3\n",
            "Enter the number of trials to run: 4\n",
            "\n",
            "The average return over 4 trials is: 2.0000\n"
          ]
        }
      ]
    },
    {
      "cell_type": "markdown",
      "source": [
        "# Part 4: Visualize Probability Distributions"
      ],
      "metadata": {
        "id": "u4OSk0jjPwXf"
      }
    },
    {
      "cell_type": "code",
      "source": [
        "import numpy as np\n",
        "import matplotlib.pyplot as plt\n",
        "\n",
        "\n",
        "def binomial_distribution(trials, prob_success, size):\n",
        "\n",
        "    data = np.random.binomial(n=trials, p=prob_success, size=size)\n",
        "\n",
        "\n",
        "    plt.hist(data, bins=30, color='skyblue', edgecolor='black')\n",
        "    plt.title(f'Binomial Distribution (Trials={trials}, P(Success)={prob_success})')\n",
        "    plt.xlabel('Number of Successes')\n",
        "    plt.ylabel('Frequency')\n",
        "    plt.show()\n",
        "\n",
        "\n",
        "def normal_distribution(mean, std_dev, size):\n",
        "\n",
        "    data = np.random.normal(loc=mean, scale=std_dev, size=size)\n",
        "\n",
        "\n",
        "    plt.hist(data, bins=30, color='lightgreen', edgecolor='black')\n",
        "    plt.title(f'Normal Distribution (Mean={mean}, Std Dev={std_dev})')\n",
        "    plt.xlabel('Value')\n",
        "    plt.ylabel('Frequency')\n",
        "    plt.show()\n",
        "\n",
        "\n",
        "def interactive_distribution_visualization():\n",
        "    print(\"Probability Distribution Visualization\\n\")\n",
        "    print(\"Choose a distribution to visualize:\")\n",
        "    print(\"1. Binomial Distribution (e.g., flipping a coin)\")\n",
        "    print(\"2. Normal Distribution (e.g., exam scores)\")\n",
        "\n",
        "\n",
        "    choice = int(input(\"Enter 1 for Binomial or 2 for Normal: \"))\n",
        "\n",
        "    if choice == 1:\n",
        "\n",
        "        trials = int(input(\"Enter the number of trials (e.g., 10): \"))\n",
        "        prob_success = float(input(\"Enter the probability of success (e.g., 0.5): \"))\n",
        "        size = int(input(\"Enter the sample size (e.g., 1000): \"))\n",
        "\n",
        "\n",
        "        binomial_distribution(trials, prob_success, size)\n",
        "\n",
        "    elif choice == 2:\n",
        "\n",
        "        mean = float(input(\"Enter the mean (e.g., 50): \"))\n",
        "        std_dev = float(input(\"Enter the standard deviation (e.g., 10): \"))\n",
        "        size = int(input(\"Enter the sample size (e.g., 1000): \"))\n",
        "\n",
        "\n",
        "        normal_distribution(mean, std_dev, size)\n",
        "\n",
        "    else:\n",
        "        print(\"Invalid choice! Please select either 1 or 2.\")\n",
        "\n",
        "\n",
        "interactive_distribution_visualization()"
      ],
      "metadata": {
        "colab": {
          "base_uri": "https://localhost:8080/"
        },
        "id": "BCUgZLOTRe8f",
        "outputId": "2be5e1fc-9461-4f40-b120-0c7bec8400f4"
      },
      "execution_count": null,
      "outputs": [
        {
          "output_type": "stream",
          "name": "stdout",
          "text": [
            "Probability Distribution Visualization\n",
            "\n",
            "Choose a distribution to visualize:\n",
            "1. Binomial Distribution (e.g., flipping a coin)\n",
            "2. Normal Distribution (e.g., exam scores)\n"
          ]
        }
      ]
    },
    {
      "cell_type": "markdown",
      "source": [
        "# Part 5: Real-World Scenario Prediction\n"
      ],
      "metadata": {
        "id": "u0fO_eP7QFl3"
      }
    },
    {
      "cell_type": "code",
      "source": [
        "\n",
        "def calculate_rain_probability(p_rain, p_humidity_given_rain, p_cloud_given_rain, p_humidity, p_cloud):\n",
        "\n",
        "    posterior_prob = (p_humidity_given_rain * p_cloud_given_rain * p_rain) / (p_humidity * p_cloud)\n",
        "    return posterior_prob\n",
        "\n",
        "\n",
        "def interactive_rain_prediction():\n",
        "    print(\"Rain Prediction Based on Humidity and Cloud Cover\\n\")\n",
        "\n",
        "\n",
        "    p_rain = float(input(\"Enter the prior probability of rain (P(Rain), e.g., 0.3): \"))\n",
        "    p_humidity_given_rain = float(input(\"Enter the probability of high humidity given rain (P(Humidity|Rain), e.g., 0.8): \"))\n",
        "    p_cloud_given_rain = float(input(\"Enter the probability of high cloud cover given rain (P(Cloud Cover|Rain), e.g., 0.9): \"))\n",
        "    p_humidity = float(input(\"Enter the overall probability of high humidity (P(Humidity), e.g., 0.6): \"))\n",
        "    p_cloud = float(input(\"Enter the overall probability of high cloud cover (P(Cloud Cover), e.g., 0.7): \"))\n",
        "\n",
        "\n",
        "    prob_rain_given_humidity_cloud = calculate_rain_probability(\n",
        "        p_rain, p_humidity_given_rain, p_cloud_given_rain, p_humidity, p_cloud\n",
        "    )\n",
        "\n",
        "\n",
        "    print(f\"\\nThe probability of rain given the humidity and cloud cover is: {prob_rain_given_humidity_cloud:.4f}\")\n",
        "\n",
        "    if prob_rain_given_humidity_cloud > 0.7:\n",
        "        print(\"It is very likely to rain.\")\n",
        "    elif 0.4 <= prob_rain_given_humidity_cloud <= 0.7:\n",
        "        print(\"There is a moderate chance of rain.\")\n",
        "    else:\n",
        "        print(\"It is unlikely to rain.\")\n",
        "\n",
        "\n",
        "interactive_rain_prediction()\n"
      ],
      "metadata": {
        "id": "SzJl81qNQJKP"
      },
      "execution_count": null,
      "outputs": []
    }
  ]
}