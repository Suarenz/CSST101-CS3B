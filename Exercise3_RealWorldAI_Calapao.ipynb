{
  "nbformat": 4,
  "nbformat_minor": 0,
  "metadata": {
    "colab": {
      "provenance": [],
      "collapsed_sections": [
        "oSuapJPRBEZL",
        "HxvZ7wCnCXHM"
      ],
      "toc_visible": true,
      "authorship_tag": "ABX9TyMfn3hXxh2BcTx68yzJSnOj",
      "include_colab_link": true
    },
    "kernelspec": {
      "name": "python3",
      "display_name": "Python 3"
    },
    "language_info": {
      "name": "python"
    }
  },
  "cells": [
    {
      "cell_type": "markdown",
      "metadata": {
        "id": "view-in-github",
        "colab_type": "text"
      },
      "source": [
        "<a href=\"https://colab.research.google.com/github/Suarenz/CSST101-CS3B/blob/main/Exercise3_RealWorldAI_Calapao.ipynb\" target=\"_parent\"><img src=\"https://colab.research.google.com/assets/colab-badge.svg\" alt=\"Open In Colab\"/></a>"
      ]
    },
    {
      "cell_type": "markdown",
      "source": [
        "# Part 1: Defining the Problem and System Design"
      ],
      "metadata": {
        "id": "oSuapJPRBEZL"
      }
    },
    {
      "cell_type": "code",
      "execution_count": 2,
      "metadata": {
        "colab": {
          "base_uri": "https://localhost:8080/"
        },
        "id": "AGlQhsce3wOn",
        "outputId": "e42b3c40-2006-4683-bcbb-0de435de9d91"
      },
      "outputs": [
        {
          "output_type": "stream",
          "name": "stdout",
          "text": [
            "\n",
            "\n",
            "Chosen Disease: \n",
            "                      Diabetes\n",
            "\n",
            "Contributing Factors: \n",
            "                      *Age\n",
            "                      *Body Mass Index (BMI)\n",
            "                      *Family History\n",
            "                      *Physical Activity Level\n",
            "                      *Blood Pressure     \n",
            "\n",
            "\n"
          ]
        }
      ],
      "source": [
        "report = \"\"\"\n",
        "\n",
        "Chosen Disease:\n",
        "                      Diabetes\n",
        "\n",
        "Contributing Factors:\n",
        "                      *Age\n",
        "                      *Body Mass Index (BMI)\n",
        "                      *Family History\n",
        "                      *Physical Activity Level\n",
        "                      *Blood Pressure\n",
        "\n",
        "\"\"\"\n",
        "print(report)"
      ]
    },
    {
      "cell_type": "markdown",
      "source": [
        "# Part 2: Basic Probability Calculations"
      ],
      "metadata": {
        "id": "HxvZ7wCnCXHM"
      }
    },
    {
      "cell_type": "code",
      "source": [
        "\n",
        "P_Diabetes = 0.1\n",
        "P_Pos_given_Diabetes = 0.9\n",
        "P_Pos_given_No_Diabetes = 0.2\n",
        "\n",
        "\n",
        "P_Pos = (P_Pos_given_Diabetes * P_Diabetes) + (P_Pos_given_No_Diabetes * (1 - P_Diabetes))\n",
        "\n",
        "\n",
        "P_Diabetes_given_Pos = (P_Pos_given_Diabetes * P_Diabetes) / P_Pos\n",
        "\n",
        "print(f\"P(Diabetes|Pos): {P_Diabetes_given_Pos:.4f}\")"
      ],
      "metadata": {
        "colab": {
          "base_uri": "https://localhost:8080/"
        },
        "id": "crUL0D_6CeHx",
        "outputId": "25778749-7a51-4b58-db13-316f895efa8f"
      },
      "execution_count": 3,
      "outputs": [
        {
          "output_type": "stream",
          "name": "stdout",
          "text": [
            "P(Diabetes|Pos): 0.3333\n"
          ]
        }
      ]
    },
    {
      "cell_type": "markdown",
      "source": [
        "# Part 3: Decision-Making Simulation"
      ],
      "metadata": {
        "id": "eSyOKWjFCrOH"
      }
    },
    {
      "cell_type": "code",
      "source": [
        "def decision_making(probability, threshold=0.5):\n",
        "    if probability >= threshold:\n",
        "        return \"Recommend further tests.\"\n",
        "    else:\n",
        "        return \"Monitor health and lifestyle.\"\n",
        "\n",
        "decision = decision_making(P_Diabetes_given_Pos)\n",
        "print(decision)"
      ],
      "metadata": {
        "colab": {
          "base_uri": "https://localhost:8080/"
        },
        "id": "tlP3jt-ICyhN",
        "outputId": "f8115909-f4d7-4bab-f6db-94fd5a1e7e04"
      },
      "execution_count": 4,
      "outputs": [
        {
          "output_type": "stream",
          "name": "stdout",
          "text": [
            "Monitor health and lifestyle.\n"
          ]
        }
      ]
    },
    {
      "cell_type": "markdown",
      "source": [
        "# Part 4: Visualize a Probability Distribution"
      ],
      "metadata": {
        "id": "hCPJts-5C9Rq"
      }
    },
    {
      "cell_type": "code",
      "source": [
        "import numpy as np\n",
        "import matplotlib.pyplot as plt\n",
        "\n",
        "\n",
        "n = 10\n",
        "p = P_Diabetes_given_Pos\n",
        "\n",
        "\n",
        "x = np.arange(0, n+1)\n",
        "binom_dist = [np.random.binomial(n, p) for _ in x]\n",
        "\n",
        "plt.bar(x, binom_dist, color='blue', alpha=0.7)\n",
        "plt.xlabel('Number of Successes')\n",
        "plt.ylabel('Probability')\n",
        "plt.title('Binomial Distribution of Diabetes Diagnosis')\n",
        "plt.show()"
      ],
      "metadata": {
        "colab": {
          "base_uri": "https://localhost:8080/",
          "height": 472
        },
        "id": "szQ6DKetDkL6",
        "outputId": "98753a35-3975-4f84-a186-0e7614fbc583"
      },
      "execution_count": 5,
      "outputs": [
        {
          "output_type": "display_data",
          "data": {
            "text/plain": [
              "<Figure size 640x480 with 1 Axes>"
            ],
            "image/png": "[encoded data removed]"
          },
          "metadata": {}
        }
      ]
    },
    {
      "cell_type": "markdown",
      "source": [
        "Reflection Question"
      ],
      "metadata": {
        "id": "7yMtr1TADzHB"
      }
    },
    {
      "cell_type": "code",
      "source": [
        "report = \"\"\"\n",
        "In 3-4 sentences, explain how understanding probability theory is important in medical\n",
        "diagnosis systems.\n",
        "\n",
        "Reflection:\n",
        "Understanding probability theory  contributes a lot in making decision in medical diagnosis\n",
        "systems in terms of health care professionals to assess the likelihood of various conditions\n",
        "based on patient data. By applying probabilistic models, clinicians can evaluate symptoms, test\n",
        "results, and patient history to determine the most probable diagnosis. This approach also helps us\n",
        "in quantifying uncertainty, allowing for better risk assessment and decision-making regarding treatment\n",
        "options. Lastly, probability theory enhances the accuracy and reliability of diagnoses, leading\n",
        "to improved patient outcomes.\n",
        "\n",
        "\"\"\"\n",
        "print(report)"
      ],
      "metadata": {
        "colab": {
          "base_uri": "https://localhost:8080/"
        },
        "id": "Ds9lAU_9D4eV",
        "outputId": "e6b5f0a2-09ec-407a-a490-ce6b2ee5327e"
      },
      "execution_count": 8,
      "outputs": [
        {
          "output_type": "stream",
          "name": "stdout",
          "text": [
            " \n",
            "In 3-4 sentences, explain how understanding probability theory is important in medical\n",
            "diagnosis systems.\n",
            "\n",
            "Reflection:\n",
            "Understanding probability theory  contributes a lot in making decision in medical diagnosis\n",
            "systems in terms of health care professionals to assess the likelihood of various conditions\n",
            "based on patient data. By applying probabilistic models, clinicians can evaluate symptoms, test\n",
            "results, and patient history to determine the most probable diagnosis. This approach also helps us\n",
            "in quantifying uncertainty, allowing for better risk assessment and decision-making regarding treatment\n",
            "options. Lastly, probability theory enhances the accuracy and reliability of diagnoses, leading\n",
            "to improved patient outcomes.\n",
            "\n",
            "\n"
          ]
        }
      ]
    }
  ]
}