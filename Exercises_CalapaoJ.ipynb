{
  "nbformat": 4,
  "nbformat_minor": 0,
  "metadata": {
    "colab": {
      "provenance": [],
      "toc_visible": true,
      "authorship_tag": "ABX9TyOFfVGkLKI8/9KeVB/Ad9Fp",
      "include_colab_link": true
    },
    "kernelspec": {
      "name": "python3",
      "display_name": "Python 3"
    },
    "language_info": {
      "name": "python"
    }
  },
  "cells": [
    {
      "cell_type": "markdown",
      "metadata": {
        "id": "view-in-github",
        "colab_type": "text"
      },
      "source": [
        "<a href=\"https://colab.research.google.com/github/Suarenz/CSST101-CS3B/blob/main/Exercises_CalapaoJ.ipynb\" target=\"_parent\"><img src=\"https://colab.research.google.com/assets/colab-badge.svg\" alt=\"Open In Colab\"/></a>"
      ]
    },
    {
      "cell_type": "markdown",
      "source": [
        "# Exercise 1: Propositional Logic in Python"
      ],
      "metadata": {
        "id": "wodQU01U5hfq"
      }
    },
    {
      "cell_type": "code",
      "source": [
        "rains = True\n",
        "def ground_wet(rains):\n",
        "  return rains\n",
        "\n",
        "def match_lights(ground_wet):\n",
        "  return not ground_wet\n",
        "\n",
        "if rains:\n",
        "  is_ground_wet = ground_wet(rains)\n",
        "  can_match_light = match_lights(is_ground_wet)\n",
        "\n",
        "  if can_match_light:\n",
        "    print(\"This will light\")\n",
        "  else:\n",
        "    print(\"The match will not light\")"
      ],
      "metadata": {
        "id": "eLO0N0h1yRq0",
        "colab": {
          "base_uri": "https://localhost:8080/"
        },
        "collapsed": true,
        "outputId": "039874fe-a9a5-4ed0-c498-55568ffcf451"
      },
      "execution_count": 1,
      "outputs": [
        {
          "output_type": "stream",
          "name": "stdout",
          "text": [
            "The match will not light\n"
          ]
        }
      ]
    },
    {
      "cell_type": "markdown",
      "source": [
        "# Exercise 2: Predicate Logic Representation\n"
      ],
      "metadata": {
        "id": "wKT32G5A9HjP"
      }
    },
    {
      "cell_type": "code",
      "source": [
        "def isHuman(person):\n",
        "  return person == \"Socrates\"\n",
        "\n",
        "def isMortal(person):\n",
        "  if isHuman(person):\n",
        "    return True\n",
        "  else:\n",
        "    return False\n",
        "\n",
        "person = \"Socrates\"\n",
        "\n",
        "if isMortal(person):\n",
        "  print(f\"{person} is mortal\")\n",
        "else:\n",
        "  print(f\"{person} is not mortal\")"
      ],
      "metadata": {
        "id": "L0HLfS0b9ZnL",
        "colab": {
          "base_uri": "https://localhost:8080/"
        },
        "outputId": "e8bd2e24-e543-43d0-b7dd-536d600618f8"
      },
      "execution_count": 2,
      "outputs": [
        {
          "output_type": "stream",
          "name": "stdout",
          "text": [
            "Socrates is mortal\n"
          ]
        }
      ]
    },
    {
      "cell_type": "markdown",
      "source": [
        "# Exercise 3: Inference Techniques Logic-Based Systems"
      ],
      "metadata": {
        "id": "Jauj6yvl-y26"
      }
    },
    {
      "cell_type": "code",
      "source": [
        "def  modus_ponens(rules, facts):\n",
        "  conclusions = []\n",
        "  for rule in rules:\n",
        "    premise, conclusion = rule\n",
        "    if premise in facts:\n",
        "      conclusions. append(conclusion)\n",
        "  return conclusions\n",
        "\n",
        "rules = [{\"X\", \"Y\"}]\n",
        "\n",
        "facts = [\"X\"]\n",
        "\n",
        "conclusions = modus_ponens(rules,facts)\n",
        "print(\"Inferred Conclusion:\", conclusions)"
      ],
      "metadata": {
        "id": "WZrL1lGJ-8BO",
        "colab": {
          "base_uri": "https://localhost:8080/"
        },
        "outputId": "bc2861f3-e755-4b41-c135-725f75eefcc6"
      },
      "execution_count": 3,
      "outputs": [
        {
          "output_type": "stream",
          "name": "stdout",
          "text": [
            "Inferred Conclusion: ['Y']\n"
          ]
        }
      ]
    },
    {
      "cell_type": "markdown",
      "source": [
        "# Exercise 4"
      ],
      "metadata": {
        "id": "84x7Z_qPAzHn"
      }
    },
    {
      "cell_type": "code",
      "source": [
        "hungry = True\n",
        "eats = False\n",
        "\n",
        "if hungry:\n",
        "  eats = True\n",
        "\n",
        "if eats:\n",
        "  hungry = False\n",
        "\n",
        "\n",
        "if not hungry:\n",
        "  print(\"John Reinnen is no longer hungry.\")\n",
        "else:\n",
        "  print(\"John Reinnen is still hungry.\")"
      ],
      "metadata": {
        "colab": {
          "base_uri": "https://localhost:8080/"
        },
        "id": "n_tdPDkhA2Kh",
        "outputId": "9c197be3-5e8d-43b4-a688-5e2c5c99033d"
      },
      "execution_count": 4,
      "outputs": [
        {
          "output_type": "stream",
          "name": "stdout",
          "text": [
            "John Reinnen is no longer hungry.\n"
          ]
        }
      ]
    },
    {
      "cell_type": "markdown",
      "source": [
        "# Exercise 5"
      ],
      "metadata": {
        "id": "g_sye4puBwK7"
      }
    },
    {
      "cell_type": "code",
      "source": [
        "def is_greeting(statement):\n",
        "  greetings = (\"hello\", \"hi\", \"hey\")\n",
        "  return statement.lower() in greetings\n",
        "\n",
        "def respond(statement):\n",
        "  if is_greeting(statement):\n",
        "    return \"Hello! How can I help you ngayon?\"\n",
        "  else:\n",
        "    return \"I am not sure how to respond to that\"\n",
        "\n",
        "user_input = input(\"User: \")\n",
        "response = respond(user_input)\n",
        "print(f\"Chatbot: {response}\")"
      ],
      "metadata": {
        "colab": {
          "base_uri": "https://localhost:8080/"
        },
        "id": "LE_GMb5mB2Df",
        "outputId": "efd29e3b-1423-4e85-fb0f-051269834ac6"
      },
      "execution_count": 5,
      "outputs": [
        {
          "output_type": "stream",
          "name": "stdout",
          "text": [
            "User: Renz\n",
            "Chatbot: I am not sure how to respond to that\n"
          ]
        }
      ]
    },
    {
      "cell_type": "markdown",
      "source": [
        "# Case Study Discussion"
      ],
      "metadata": {
        "id": "1X6HFaBNFESm"
      }
    },
    {
      "cell_type": "code",
      "source": [
        "report = \"\"\"\n",
        "Logic-based AI is also present with chatbots, that depend on rules to have responses based off\n",
        "of what users input. For very basic interactions, like `IF user_says('hello') THEN respond('hi there!`)` they can operate\n",
        "within propositional logic. \". A better class of chatbots may employ predicate logic to grasp the connections between entities\n",
        "and give detailed answers. Logic-based chatbots can be determinable and easy to follow yet have a difficult time addressing the\n",
        "vagueness of human language, as well with higher-level discourse.\n",
        "\"\"\"\n",
        "print(report)"
      ],
      "metadata": {
        "colab": {
          "base_uri": "https://localhost:8080/"
        },
        "id": "9TEN6vUaGq95",
        "outputId": "6169bb8d-d802-4b11-febe-fad6a85fd6f5"
      },
      "execution_count": 6,
      "outputs": [
        {
          "output_type": "stream",
          "name": "stdout",
          "text": [
            "\n",
            "Logic-based AI is also present with chatbots, that depend on rules to have responses based off\n",
            "of what users input. For very basic interactions, like `IF user_says('hello') THEN respond('hi there!`)` they can operate\n",
            "within propositional logic. \". A better class of chatbots may employ predicate logic to grasp the connections between entities\n",
            "and give detailed answers. Logic-based chatbots can be determinable and easy to follow yet have a difficult time addressing the\n",
            "vagueness of human language, as well with higher-level discourse.\n",
            "\n"
          ]
        }
      ]
    }
  ]
}